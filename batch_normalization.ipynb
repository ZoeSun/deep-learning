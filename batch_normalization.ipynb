{
 "cells": [
  {
   "cell_type": "code",
   "execution_count": 2,
   "metadata": {
    "collapsed": true
   },
   "outputs": [],
   "source": [
    "### description for bn implementation###\n",
    "# method: after the 2 convolution layer, add batch normalization layer (using tensorflow bn layer)\n",
    "# ex: conv2_bn = tf.layers.batch_normalization(conv_layer2)\n",
    "# result explanation: comparing the final accuracy coverage values, the one with bn version is higher\n",
    "#                     the plot is shown in the end of this file\n",
    "# notice: this file does not contain cross entropy considering the cost of time of calculating validation accuracy\n",
    "#         is large, which my notebook can not afford it( i don't have gpu qq)\n",
    "#         the cross entropy is only implemented in final.ipnb\n",
    "\n"
   ]
  },
  {
   "cell_type": "code",
   "execution_count": 3,
   "metadata": {
    "collapsed": true
   },
   "outputs": [],
   "source": [
    "%matplotlib inline\n",
    "from tensorflow.examples.tutorials.mnist import input_data\n",
    "import tensorflow as tf\n",
    "import numpy as np\n",
    "import matplotlib.pyplot as plt\n"
   ]
  },
  {
   "cell_type": "code",
   "execution_count": 7,
   "metadata": {
    "collapsed": true
   },
   "outputs": [],
   "source": [
    "#generate weight matrix\n",
    "def genWeight(shape): \n",
    "    initial=tf.truncated_normal(shape,stddev=0.1) # 標準差=0.1\n",
    "    return tf.Variable(initial)"
   ]
  },
  {
   "cell_type": "code",
   "execution_count": 8,
   "metadata": {
    "collapsed": true
   },
   "outputs": [],
   "source": [
    "#generate bias\n",
    "def genBias(shape): \n",
    "    initial=tf.constant(0.1,shape=shape) \n",
    "    return tf.Variable(initial)"
   ]
  },
  {
   "cell_type": "code",
   "execution_count": 9,
   "metadata": {
    "collapsed": true
   },
   "outputs": [],
   "source": [
    "#define convolution layer\n",
    "# zero padding at rightmost\n",
    "# stride = (1,x movement,y movement,1)\n",
    "# x = input image\n",
    "def conv2d(x,W):\n",
    "    return tf.nn.conv2d(x,W,strides=[1,1,1,1],padding='SAME')"
   ]
  },
  {
   "cell_type": "code",
   "execution_count": 10,
   "metadata": {
    "collapsed": true
   },
   "outputs": [],
   "source": [
    "#define max pooling layer\n",
    "# 2x2 pooling\n",
    "def max_pool_2x2(x): \n",
    "    return tf.nn.max_pool(x,ksize=[1,2,2,1],strides=[1,2,2,1], padding='SAME')"
   ]
  },
  {
   "cell_type": "code",
   "execution_count": 14,
   "metadata": {
    "collapsed": true
   },
   "outputs": [],
   "source": [
    "def main(bn):\n",
    "    result = []\n",
    "    epoch = 3\n",
    "    print \"start training...\"\n",
    "#define placeholder\n",
    "    _x = tf.placeholder(tf.float32,[None,784])\n",
    "    _y = tf.placeholder(tf.float32,[None,10])\n",
    "#dropout probability\n",
    "    keep_prob = tf.placeholder(tf.float32)\n",
    "#reshape _x, define channel = 1\n",
    "    _image=tf.reshape(_x,[-1,28,28,1])\n",
    "    \n",
    "#constructing CNN\n",
    "    ###---------layer 1---------###\n",
    "    # input -> image with channel 1\n",
    "    # output feature map: 32\n",
    "    # after pooling we get 14x14x32 output\n",
    "    W_conv1=genWeight([5,5,1,32])\n",
    "    b_conv1=genBias([32])\n",
    "    #use relu as activation function\n",
    "    conv_layer1 = tf.nn.relu(conv2d(_image,W_conv1)+b_conv1)\n",
    "    if bn==1:\n",
    "        conv1_bn = tf.layers.batch_normalization(conv_layer1)\n",
    "        pool_layer1 = max_pool_2x2(conv1_bn)\n",
    "    else:\n",
    "        pool_layer1 = max_pool_2x2(conv_layer1)\n",
    "    \n",
    "    ###--------layer 2---------###\n",
    "    # input -> 32 feature maps\n",
    "    # output feature map: 64\n",
    "    # output-> after pooling we get 7x7x64 output\n",
    "    W_conv2 = genWeight([5,5,32,64])\n",
    "    b_conv2 = genBias([64])\n",
    "    conv_layer2 = tf.nn.relu(conv2d(pool_layer1,W_conv2)+b_conv2)\n",
    "    if bn==1:\n",
    "        conv2_bn = tf.layers.batch_normalization(conv_layer2)\n",
    "        pool_layer2 = max_pool_2x2(conv2_bn)\n",
    "    else:\n",
    "        pool_layer2 = max_pool_2x2(conv_layer2)\n",
    "\n",
    "\n",
    "    \n",
    "    ###------fully connected layer 1------###\n",
    "    # size: 1024x1\n",
    "    _flattern = tf.reshape(pool_layer2,[-1,7*7*64]) \n",
    "    W_fc1=genWeight([7*7*64,256]) \n",
    "    b_fc1=genBias([256])\n",
    "    h_fc1=tf.nn.relu(tf.matmul(_flattern,W_fc1)+b_fc1)    \n",
    "    #-----dropout----:\n",
    "    h_fc1_drop = tf.nn.dropout(h_fc1,keep_prob)\n",
    "    \n",
    "    ###----fully connected layer 2----###\n",
    "    # size 10 x 1\n",
    "    # use softmax to classify\n",
    "    W_fc2=genWeight([256,10]) \n",
    "    b_fc2=genBias([10])    \n",
    "    y_conv = tf.matmul(h_fc1_drop, W_fc2) + b_fc2\n",
    "\n",
    "    \n",
    "    \n",
    "    \n",
    "    #---define cost function\n",
    "    cross_entropy = tf.reduce_mean(tf.nn.softmax_cross_entropy_with_logits(labels=_y, logits=y_conv))\n",
    "    \n",
    "    #---setlearning rate\n",
    "    train_step = tf.train.AdamOptimizer(1e-4).minimize(cross_entropy)\n",
    "    correct_prediction = tf.equal(tf.argmax(y_conv, 1), tf.argmax(_y, 1))\n",
    "    accuracy = tf.reduce_mean(tf.cast(correct_prediction, tf.float32))\n",
    "\n",
    "    #define session\n",
    "    with tf.Session() as sess:\n",
    "        sess.run(tf.global_variables_initializer())\n",
    "        for j in range(epoch):\n",
    "            print \"       ##### epoch \",j+1,\" #####\"\n",
    "            for i in range(1100):\n",
    "                batch = mnist.train.next_batch(50)\n",
    "                train_accuracy = accuracy.eval(feed_dict={_x: batch[0], _y: batch[1], keep_prob: 1.0})\n",
    "                if i % 100 == 0:\n",
    "                    print('step %d, training accuracy %g' % (i, train_accuracy))\n",
    "                train_step.run(feed_dict={_x: batch[0], _y: batch[1], keep_prob: 0.5})\n",
    "            \n",
    "            temp = accuracy.eval(feed_dict={_x: mnist.test.images, _y: mnist.test.labels, keep_prob: 1.0})\n",
    "            result.append(temp)\n",
    "            print('test accuracy %g' % temp)\n",
    "    return result\n"
   ]
  },
  {
   "cell_type": "code",
   "execution_count": 12,
   "metadata": {},
   "outputs": [
    {
     "name": "stdout",
     "output_type": "stream",
     "text": [
      "Extracting data/fashion/train-images-idx3-ubyte.gz\n",
      "Extracting data/fashion/train-labels-idx1-ubyte.gz\n",
      "Extracting data/fashion/t10k-images-idx3-ubyte.gz\n",
      "Extracting data/fashion/t10k-labels-idx1-ubyte.gz\n"
     ]
    }
   ],
   "source": [
    "#read data using tensorflow\n",
    "mnist = input_data.read_data_sets('data/fashion', one_hot=True)"
   ]
  },
  {
   "cell_type": "code",
   "execution_count": 15,
   "metadata": {},
   "outputs": [
    {
     "name": "stdout",
     "output_type": "stream",
     "text": [
      "#-----with batch normalization\n",
      "start training...\n",
      "\n",
      "##### epoch  1  #####\n",
      "step 0, training accuracy 0.06\n",
      "step 100, training accuracy 0.76\n",
      "step 200, training accuracy 0.72\n",
      "step 300, training accuracy 0.84\n",
      "step 400, training accuracy 0.74\n",
      "step 500, training accuracy 0.88\n",
      "step 600, training accuracy 0.86\n",
      "step 700, training accuracy 0.9\n",
      "step 800, training accuracy 0.84\n",
      "step 900, training accuracy 0.78\n",
      "step 1000, training accuracy 0.82\n",
      "test accuracy 0.8338\n",
      "\n",
      "##### epoch  2  #####\n",
      "step 0, training accuracy 0.82\n",
      "step 100, training accuracy 0.82\n",
      "step 200, training accuracy 0.82\n",
      "step 300, training accuracy 0.86\n",
      "step 400, training accuracy 0.82\n",
      "step 500, training accuracy 0.9\n",
      "step 600, training accuracy 0.9\n",
      "step 700, training accuracy 0.84\n",
      "step 800, training accuracy 0.88\n",
      "step 900, training accuracy 0.88\n",
      "step 1000, training accuracy 0.84\n",
      "test accuracy 0.8567\n",
      "\n",
      "##### epoch  3  #####\n",
      "step 0, training accuracy 0.78\n",
      "step 100, training accuracy 0.84\n",
      "step 200, training accuracy 0.82\n",
      "step 300, training accuracy 0.82\n",
      "step 400, training accuracy 0.88\n",
      "step 500, training accuracy 0.86\n",
      "step 600, training accuracy 0.82\n",
      "step 700, training accuracy 0.82\n",
      "step 800, training accuracy 0.92\n",
      "step 900, training accuracy 0.84\n",
      "step 1000, training accuracy 0.82\n",
      "test accuracy 0.864\n",
      "#-----without batch normalization--------\n",
      "start training...\n",
      "\n",
      "##### epoch  1  #####\n",
      "step 0, training accuracy 0.1\n",
      "step 100, training accuracy 0.76\n",
      "step 200, training accuracy 0.8\n",
      "step 300, training accuracy 0.72\n",
      "step 400, training accuracy 0.72\n",
      "step 500, training accuracy 0.72\n",
      "step 600, training accuracy 0.74\n",
      "step 700, training accuracy 0.82\n",
      "step 800, training accuracy 0.86\n",
      "step 900, training accuracy 0.82\n",
      "step 1000, training accuracy 0.9\n",
      "test accuracy 0.8237\n",
      "\n",
      "##### epoch  2  #####\n",
      "step 0, training accuracy 0.84\n",
      "step 100, training accuracy 0.8\n",
      "step 200, training accuracy 0.84\n",
      "step 300, training accuracy 0.82\n",
      "step 400, training accuracy 0.88\n",
      "step 500, training accuracy 0.86\n",
      "step 600, training accuracy 0.82\n",
      "step 700, training accuracy 0.86\n",
      "step 800, training accuracy 0.94\n",
      "step 900, training accuracy 0.88\n",
      "step 1000, training accuracy 0.88\n",
      "test accuracy 0.8552\n",
      "\n",
      "##### epoch  3  #####\n",
      "step 0, training accuracy 0.86\n",
      "step 100, training accuracy 0.9\n",
      "step 200, training accuracy 0.88\n",
      "step 300, training accuracy 0.84\n",
      "step 400, training accuracy 0.92\n",
      "step 500, training accuracy 0.88\n",
      "step 600, training accuracy 0.8\n",
      "step 700, training accuracy 0.9\n",
      "step 800, training accuracy 0.82\n",
      "step 900, training accuracy 0.8\n",
      "step 1000, training accuracy 0.86\n",
      "test accuracy 0.8664\n"
     ]
    }
   ],
   "source": [
    "#if the program is running\n",
    "if __name__ == '__main__':\n",
    "    print \"#-----with batch normalization\"\n",
    "    result1 = main(bn=1)\n",
    "    print \"#-----without batch normalization--------\"\n",
    "    result2 = main(bn=0)\n",
    "\n",
    "\n",
    "    "
   ]
  },
  {
   "cell_type": "code",
   "execution_count": 16,
   "metadata": {},
   "outputs": [
    {
     "data": {
      "text/plain": [
       "<matplotlib.legend.Legend at 0x1263eb810>"
      ]
     },
     "execution_count": 16,
     "metadata": {},
     "output_type": "execute_result"
    },
    {
     "data": {
      "image/png": "[encoded data removed]",
      "text/plain": [
       "<matplotlib.figure.Figure at 0x125a3e450>"
      ]
     },
     "metadata": {},
     "output_type": "display_data"
    }
   ],
   "source": [
    "#plot the results\n",
    "iter_log = np.arange(len(result1)).tolist()\n",
    "plt.plot(iter_log, result1 , label=\"with bn\", linewidth=1)\n",
    "plt.plot(iter_log, result2, label=\"\\nwithout bn\", linewidth=1)\n",
    "plt.legend()\n",
    "\n"
   ]
  },
  {
   "cell_type": "code",
   "execution_count": null,
   "metadata": {
    "collapsed": true
   },
   "outputs": [],
   "source": []
  }
 ],
 "metadata": {
  "kernelspec": {
   "display_name": "Python 2",
   "language": "python",
   "name": "python2"
  },
  "language_info": {
   "codemirror_mode": {
    "name": "ipython",
    "version": 2
   },
   "file_extension": ".py",
   "mimetype": "text/x-python",
   "name": "python",
   "nbconvert_exporter": "python",
   "pygments_lexer": "ipython2",
   "version": "2.7.13"
  }
 },
 "nbformat": 4,
 "nbformat_minor": 2
}
